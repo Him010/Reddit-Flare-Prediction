{
 "cells": [
  {
   "cell_type": "markdown",
   "metadata": {},
   "source": [
    "# Importing libraries"
   ]
  },
  {
   "cell_type": "code",
   "execution_count": 1,
   "metadata": {},
   "outputs": [],
   "source": [
    "import requests\n",
    "import csv\n",
    "import time\n",
    "from bs4 import BeautifulSoup"
   ]
  },
  {
   "cell_type": "code",
   "execution_count": 2,
   "metadata": {},
   "outputs": [],
   "source": [
    "# sub-reddit url and header to imitate browser request\n",
    "url = \"https://old.reddit.com/r/india/\"\n",
    "headers = {'User-Agent': 'Microsoft Edge 41.16299.1004.0'}\n",
    "\n",
    "#requesting page\n",
    "page = requests.get(url, headers=headers)"
   ]
  },
  {
   "cell_type": "code",
   "execution_count": 3,
   "metadata": {},
   "outputs": [],
   "source": [
    "#making an object of BeautifulSoup as html parser\n",
    "soup = BeautifulSoup(page.text, 'html.parser')"
   ]
  },
  {
   "cell_type": "code",
   "execution_count": 4,
   "metadata": {},
   "outputs": [],
   "source": [
    "#scraping page to find web domain of all headings\n",
    "domains = soup.find_all(\"span\",class_ = \"domain\")"
   ]
  },
  {
   "cell_type": "code",
   "execution_count": 5,
   "metadata": {},
   "outputs": [
    {
     "name": "stdout",
     "output_type": "stream",
     "text": [
      "166167168CoronavirusCoronavirus (COVID-19) Megathread - News and Updates - 4 (self.india)submitted 7 days ago * by IAmMohitBigotry begets Bigotry[M] - announcement2613 commentssharesavehidereportloading...\n",
      "(self.india)\n",
      "818283Scheduled[Monthly Happiness Thread] Randians, please share a good/positive/happy news happening in your life recently ! :) (self.india)submitted 3 days ago by cool_boyy - announcement105 commentssharesavehidereportloading...\n",
      "(self.india)\n",
      "1179517961797PoliticsMumbai Police Meri Jaan (i.redd.it)submitted 5 hours ago by Fabulous-RiceRealized my Lifestyle is called Social Distancing30 commentssharesavehidereportloading...\n",
      "(i.redd.it)\n",
      "2292529262927Non-PoliticalAn aerial view of Gangaikonda Cholapuram Temple (i.redd.it)submitted 17 hours ago by jatadharius76 commentssharesavehidereportloading...\n",
      "(i.redd.it)\n",
      "3221222223PoliticsArnab Goswami alleges physical assault by Congress, calls Sonia Gandhi a ‘Coward’ (theweek.in)submitted 5 hours ago by Dhinnu101 commentssharesavehidereport\n",
      "(theweek.in)\n",
      "4201202203CoronavirusThane Man Allegedly Refuses To Take Delivery From Muslim Man, Arrested (ndtv.com)submitted 6 hours ago by DrMrJekyll30 commentssharesavehidereport\n",
      "(ndtv.com)\n",
      "5168169170Policy/Economy'Treat Sanitation Workers Like Health Workers, Pay Them At Least Rs 20,000 Per Month' (thewire.in)submitted 5 hours ago by Dumma172910 commentssharesavehidereport\n",
      "(thewire.in)\n",
      "6102103104PoliticsGive Us Kerala Model Over Gujarat Model, Any Day - By Ramachandra Guha (ndtv.com)submitted 3 hours ago by iali3073 commentssharesavehidereport\n",
      "(ndtv.com)\n",
      "799100101Politics\"BJP Continues To Spread Virus Of Communal Prejudice\": Sonia Gandhi (ndtv.com)submitted 4 hours ago by iali30710 commentssharesavehidereport\n",
      "(ndtv.com)\n",
      "8162163164PoliticsGovt should revise list of \"reserved\" categories to keep well-off out: SC (timesofindia.indiatimes.com)submitted 7 hours ago by harddisc109 commentssharesavehidereport\n",
      "(timesofindia.indiatimes.com)\n",
      "9121122123PoliticsPakistani Twitter account posing as Omani princess shares anti-India material, old tweets show ISPR's role (dnaindia.com)submitted 5 hours ago by Starscream_xMaharashtra18 commentssharesavehidereport\n",
      "(dnaindia.com)\n",
      "10808182Policy/EconomyKerala govt has decided to deduct the salary of state employees for 6 days in a month for next 5 months and of MLAs and other legislators by 30% for next one year to tide over the unprecedented financial situation due to COVID-19. (thehindu.com)submitted 4 hours ago by wild_wild_countryman3 commentssharesavehidereport\n",
      "(thehindu.com)\n",
      "11767778CoronavirusDiabetic man dies of lack of food, medicine at Delhi quarantine centre (nationalheraldindia.com)submitted 3 hours ago by hammyhammadNCT of Delhi6 commentssharesavehidereport\n",
      "(nationalheraldindia.com)\n",
      "12747576CoronavirusFans, Toilets Don't Work: UP Doctors Release Videos, Government Acts (ndtv.com)submitted 4 hours ago by iali3077 commentssharesavehidereport\n",
      "(ndtv.com)\n",
      "13391392393PoliticsFIR against Arnab Goswami in Chhattisgarh for creating animosity between communities- The New Indian Express (newindianexpress.com)submitted 13 hours ago by raspyduke694[🍰]89 commentssharesavehidereport\n",
      "(newindianexpress.com)\n",
      "14104105106CoronavirusGovt plans to test whether ashwagandha, mulethi, guduchi will help fight Covid-19 (theprint.in)submitted 6 hours ago by hipporama31 commentssharesavehidereport\n",
      "(theprint.in)\n",
      "15899091Non-PoliticalSatyajit Ray’s ‘Two’ offers a lens on how lockdowns work differently for rich and poor kids (scroll.in)submitted 6 hours ago by Fabulous-RiceRealized my Lifestyle is called Social Distancing5 commentssharesavehidereport\n",
      "(scroll.in)\n",
      "16969798Policy/Economy2.7 lakh trees to be felled for hydropower project in Arunachal’s Dibang Valley (m.hindustantimes.com)submitted 6 hours ago by kingof-potatos17 commentssharesavehidereport\n",
      "(m.hindustantimes.com)\n",
      "17353637PoliticsMumbai police arrests two members of Indian Youth Congress for allegedly attacking Arnab Goswami (newslaundry.com)submitted 2 hours ago by Shahrukh_LeeUniverse11 commentssharesavehidereport\n",
      "(newslaundry.com)\n",
      "18333435Policy/EconomyFinally calling China’s bluff: India’s decision to ‘wall off’ even investments being routed through Hong Kong, Singapore, etc, where there could be an indirect Chinese presence, is a welcome move. (economictimes.indiatimes.com)submitted 2 hours ago by johnruby3 commentssharesavehidereport\n",
      "(economictimes.indiatimes.com)\n",
      "19707172Politics'Pressure to toe Hindutva line' sees India drop to 142 on World Press Freedom Index (theprint.in)submitted 6 hours ago by Dumma17295 commentssharesavehidereport\n",
      "(theprint.in)\n",
      "20414243PoliticsIf Uddhav Thackeray bows before Arnab Goswami’s dare, he will only weaken himself before BJP (theprint.in)submitted 3 hours ago by iali30715 commentssharesavehidereport\n",
      "(theprint.in)\n",
      "21515253Non-PoliticalMaking Illustrations of our Landmarks till the end of Lockdown (Day 1)OC (i.redd.it)submitted 3 hours ago by MasterKau1239 commentssharesavehidereportloading...\n",
      "(i.redd.it)\n",
      "22858687CoronavirusCoronavirus numbers explained: Gujarat triples its cases in one week, deaths also rise by almost three times (indianexpress.com)submitted 7 hours ago by pramodc846 commentssharesavehidereport\n",
      "(indianexpress.com)\n",
      "23565758PoliticsI fucking hate twitter. (self.india)submitted 6 hours ago by sataniscraycray28 commentssharesavehidereportloading...\n",
      "(self.india)\n",
      "24313233PoliticsAs the world looks for coronavirus scapegoats, India pins blame on Muslims (washingtonpost.com)submitted 2 hours ago by Indianopolice6 commentssharesavehidereport\n",
      "(washingtonpost.com)\n",
      "25565758CoronavirusAs People Stay Home, Air Pollution In North India At 20-Year Low: NASA (ndtv.com)submitted 6 hours ago by lovejackdaniels10 commentssharesavehidereport\n",
      "(ndtv.com)\n"
     ]
    }
   ],
   "source": [
    "#printing all domains and also finding their parent using DOM structure of page\n",
    "for domain in domains:\n",
    "    parent_div = domain.parent.parent.parent.parent\n",
    "    print(parent_div.text)\n",
    "    print(domain.text)"
   ]
  },
  {
   "cell_type": "code",
   "execution_count": 6,
   "metadata": {},
   "outputs": [
    {
     "name": "stdout",
     "output_type": "stream",
     "text": [
      "Coronavirus (COVID-19) Megathread - News and Updates - 4\n",
      "[Monthly Happiness Thread] Randians, please share a good/positive/happy news happening in your life recently ! :)\n",
      "Mumbai Police Meri Jaan\n",
      "An aerial view of Gangaikonda Cholapuram Temple\n",
      "Arnab Goswami alleges physical assault by Congress, calls Sonia Gandhi a ‘Coward’\n",
      "Thane Man Allegedly Refuses To Take Delivery From Muslim Man, Arrested\n",
      "'Treat Sanitation Workers Like Health Workers, Pay Them At Least Rs 20,000 Per Month'\n",
      "Give Us Kerala Model Over Gujarat Model, Any Day - By Ramachandra Guha\n",
      "\"BJP Continues To Spread Virus Of Communal Prejudice\": Sonia Gandhi\n",
      "Govt should revise list of \"reserved\" categories to keep well-off out: SC\n",
      "Pakistani Twitter account posing as Omani princess shares anti-India material, old tweets show ISPR's role\n",
      "Kerala govt has decided to deduct the salary of state employees for 6 days in a month for next 5 months and of MLAs and other legislators by 30% for next one year to tide over the unprecedented financial situation due to COVID-19.\n",
      "Diabetic man dies of lack of food, medicine at Delhi quarantine centre\n",
      "Fans, Toilets Don't Work: UP Doctors Release Videos, Government Acts\n",
      "FIR against Arnab Goswami in Chhattisgarh for creating animosity between communities- The New Indian Express\n",
      "Govt plans to test whether ashwagandha, mulethi, guduchi will help fight Covid-19\n",
      "Satyajit Ray’s ‘Two’ offers a lens on how lockdowns work differently for rich and poor kids\n",
      "2.7 lakh trees to be felled for hydropower project in Arunachal’s Dibang Valley\n",
      "Mumbai police arrests two members of Indian Youth Congress for allegedly attacking Arnab Goswami\n",
      "Finally calling China’s bluff: India’s decision to ‘wall off’ even investments being routed through Hong Kong, Singapore, etc, where there could be an indirect Chinese presence, is a welcome move.\n",
      "'Pressure to toe Hindutva line' sees India drop to 142 on World Press Freedom Index\n",
      "If Uddhav Thackeray bows before Arnab Goswami’s dare, he will only weaken himself before BJP\n",
      "Making Illustrations of our Landmarks till the end of Lockdown (Day 1)\n",
      "Coronavirus numbers explained: Gujarat triples its cases in one week, deaths also rise by almost three times\n",
      "I fucking hate twitter.\n",
      "As the world looks for coronavirus scapegoats, India pins blame on Muslims\n",
      "As People Stay Home, Air Pollution In North India At 20-Year Low: NASA\n"
     ]
    }
   ],
   "source": [
    "#Finding title,author,likes,flair,data domain of one page\n",
    "attrs = {'class' : 'thing'}\n",
    "\n",
    "for post in soup.find_all('div',attrs = attrs):\n",
    "    title = post.find('p', class_=\"title\").a.text\n",
    "    print(title)\n",
    "    author = post.find('a', class_='author').text\n",
    "    likes = post.find(\"div\", class_ = \"score likes\").text\n",
    "    if likes == \"•\":\n",
    "        likes = \"None\"\n",
    "    flair = post.find(\"span\",class_ = \"linkflairlabel\")\n",
    "    if flair !=None:\n",
    "        flair = flair.text"
   ]
  },
  {
   "cell_type": "code",
   "execution_count": 12,
   "metadata": {},
   "outputs": [],
   "source": [
    "#Some values for writing in csv file\n",
    "counter = 0                             ## to give unique id to each row\n",
    "count = 1\n",
    "title_check = []                        ## to check there are no repeated titles in data\n",
    "attrs = {'class' : 'thing'}             ## attribute to check for the heading"
   ]
  },
  {
   "cell_type": "code",
   "execution_count": 29,
   "metadata": {
    "scrolled": false
   },
   "outputs": [],
   "source": [
    "## Finding title,author,likes,flair,data domain of one page and saving it in csv\n",
    "\n",
    "while(counter<=500):\n",
    "    posts = soup.find_all('div',attrs = attrs)\n",
    "    for post in posts:\n",
    "        title = post.find('p', class_=\"title\").a.text\n",
    "        if title not in title_check:\n",
    "            title_check.append(title)\n",
    "        else: \n",
    "            continue\n",
    "        \n",
    "        try:\n",
    "            author = post.find(\"a\", class_=\"author\").text\n",
    "        except:\n",
    "            author = \"[deleted]\"\n",
    "        \n",
    "        likes = post.find(\"div\", class_ = \"score likes\").text\n",
    "        if likes == \"•\":\n",
    "            likes = 0\n",
    "        if type(likes)!=int and likes[-1]==\"k\":\n",
    "            likes = float(likes[:-1])*1000\n",
    "        likes = int(likes)\n",
    "        \n",
    "        flair = post.find(\"span\",class_ = \"linkflairlabel\")\n",
    "        if flair!=None:\n",
    "            flair = flair.text\n",
    "        else:\n",
    "            continue\n",
    "        \n",
    "        data_domain = post.attrs['data-domain']\n",
    "        post_line = [counter, title, author, likes, data_domain,flair]\n",
    "        \n",
    "        with open('out.csv', 'a',encoding=\"utf-8\") as f:\n",
    "            writer = csv.writer(f)\n",
    "            writer.writerow(post_line)\n",
    "\n",
    "        counter += 1\n",
    "        \n",
    "    ##Finding next-button in page\n",
    "    next_button = soup.find(\"span\", class_=\"next-button\")\n",
    "    # if not found, jump to another page\n",
    "    if next_button != None:\n",
    "        next_page_link = next_button.find(\"a\").attrs['href']\n",
    "    elif count==1 : \n",
    "        next_page_link = \"https://old.reddit.com/r/india/controversial/?sort=controversial&t=year\"\n",
    "        \n",
    "    #Important : Not to use all resources of a website by requesting a large number of pages in small amount of time\n",
    "    #Following guidelines of web scraping a website\n",
    "    #time.sleep(2)\n",
    "    \n",
    "    page = requests.get(next_page_link, headers=headers)\n",
    "    soup = BeautifulSoup(page.text, 'html.parser')"
   ]
  },
  {
   "cell_type": "code",
   "execution_count": null,
   "metadata": {},
   "outputs": [],
   "source": []
  }
 ],
 "metadata": {
  "kernelspec": {
   "display_name": "Python 3",
   "language": "python",
   "name": "python3"
  },
  "language_info": {
   "codemirror_mode": {
    "name": "ipython",
    "version": 3
   },
   "file_extension": ".py",
   "mimetype": "text/x-python",
   "name": "python",
   "nbconvert_exporter": "python",
   "pygments_lexer": "ipython3",
   "version": "3.7.4"
  }
 },
 "nbformat": 4,
 "nbformat_minor": 2
}
